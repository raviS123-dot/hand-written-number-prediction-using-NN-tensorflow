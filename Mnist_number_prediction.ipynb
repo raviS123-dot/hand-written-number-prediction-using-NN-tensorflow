{
  "cells": [
    {
      "cell_type": "markdown",
      "metadata": {
        "id": "view-in-github",
        "colab_type": "text"
      },
      "source": [
        "<a href=\"https://colab.research.google.com/github/raviS123-dot/hand-written-number-prediction-using-NN-tensorflow/blob/main/Mnist_number_prediction.ipynb\" target=\"_parent\"><img src=\"https://colab.research.google.com/assets/colab-badge.svg\" alt=\"Open In Colab\"/></a>"
      ]
    },
    {
      "cell_type": "code",
      "execution_count": null,
      "metadata": {
        "id": "nrHIMtI9xw2n"
      },
      "outputs": [],
      "source": [
        "import tensorflow as tf\n",
        "from tensorflow import keras\n",
        "import matplotlib.pyplot as plt"
      ]
    },
    {
      "cell_type": "code",
      "execution_count": null,
      "metadata": {
        "id": "w4wSDL98x-Bt",
        "colab": {
          "base_uri": "https://localhost:8080/"
        },
        "outputId": "4fc7191e-a6ee-411b-8fd5-b74837e20270"
      },
      "outputs": [
        {
          "output_type": "stream",
          "name": "stdout",
          "text": [
            "Downloading data from https://storage.googleapis.com/tensorflow/tf-keras-datasets/mnist.npz\n",
            "11493376/11490434 [==============================] - 0s 0us/step\n",
            "11501568/11490434 [==============================] - 0s 0us/step\n"
          ]
        }
      ],
      "source": [
        "mnist = tf.keras.datasets.mnist\n",
        "(x_train, y_train), (x_test, y_test) = mnist.load_data()"
      ]
    },
    {
      "cell_type": "code",
      "source": [
        "plt.imshow(x_test[1])\n",
        "plt.show()"
      ],
      "metadata": {
        "colab": {
          "base_uri": "https://localhost:8080/",
          "height": 265
        },
        "id": "y4WE5xGAAOOD",
        "outputId": "4a2f34c4-aa41-4ceb-cd2e-cc58f34368b8"
      },
      "execution_count": null,
      "outputs": [
        {
          "output_type": "display_data",
          "data": {
            "text/plain": [
              "<Figure size 432x288 with 1 Axes>"
            ],
            "image/png": "[encoded data removed]"
          },
          "metadata": {
            "needs_background": "light"
          }
        }
      ]
    },
    {
      "cell_type": "code",
      "source": [
        "x_train = tf.keras.utils.normalize(x_train, axis =1)\n",
        "x_test = tf.keras.utils.normalize(x_test, axis =1)"
      ],
      "metadata": {
        "id": "8ysDYB9dAZiG"
      },
      "execution_count": null,
      "outputs": []
    },
    {
      "cell_type": "code",
      "execution_count": null,
      "metadata": {
        "id": "TGjNBSUqx-8F"
      },
      "outputs": [],
      "source": [
        "class Linear(keras.layers.Layer):\n",
        "    def __init__(self, units=32, num_shape=32):\n",
        "        super(Linear, self).__init__()\n",
        "        self.units = units\n",
        "        self.num_shape= num_shape\n",
        "\n",
        "    def build(self, input_shape):\n",
        "        self.w = self.add_weight(shape=(self.num_shape, self.units), initializer=\"random_normal\",trainable=True)\n",
        "        self.b = self.add_weight(shape=(self.units,), initializer=\"random_normal\", trainable=True)\n",
        "\n",
        "    def call(self, inputs):\n",
        "        return tf.matmul(inputs, self.w) + self.b\n"
      ]
    },
    {
      "cell_type": "code",
      "execution_count": null,
      "metadata": {
        "id": "RUAwi5N8yDM9"
      },
      "outputs": [],
      "source": [
        "class MLPBlock(keras.layers.Layer):\n",
        "    def __init__(self):\n",
        "        super(MLPBlock, self).__init__()\n",
        "        self.linear_1 = Linear(128, 784)\n",
        "        self.linear_2 = Linear(128, 128)\n",
        "        self.linear_3 = Linear(10, 128)\n",
        "\n",
        "    def call(self, inputs):\n",
        "        x = tf.nn.relu(self.linear_1(inputs))\n",
        "        y = tf.nn.relu(self.linear_2(x))\n",
        "        #z = tf.nn.relu(self.linear_3(y))\n",
        "        return tf.nn.softmax(self.linear_3(y))"
      ]
    },
    {
      "cell_type": "code",
      "source": [
        "# A layer that creates an activity regularization loss\n",
        "class ActivityRegularizationLayer(keras.layers.Layer):\n",
        "    def __init__(self, rate=1e-2):\n",
        "        super(ActivityRegularizationLayer, self).__init__()\n",
        "        self.rate = rate\n",
        "\n",
        "    def call(self, inputs):\n",
        "        self.add_loss(self.rate * tf.reduce_sum(inputs))\n",
        "        return inputs"
      ],
      "metadata": {
        "id": "_vnwVQSP80Qw"
      },
      "execution_count": null,
      "outputs": []
    },
    {
      "cell_type": "code",
      "source": [
        "x_train = x_train.reshape((60000, 784))\n",
        "input = tf.keras.Input(shape=(784,))\n",
        "output_layer = MLPBlock()\n",
        "output = output_layer(input)"
      ],
      "metadata": {
        "id": "QAqPJtsX7AiV"
      },
      "execution_count": null,
      "outputs": []
    },
    {
      "cell_type": "code",
      "execution_count": null,
      "metadata": {
        "id": "MfJgkWw01lUQ"
      },
      "outputs": [],
      "source": [
        "model = tf.keras.Model(inputs=input, outputs=output)"
      ]
    },
    {
      "cell_type": "code",
      "execution_count": null,
      "metadata": {
        "id": "-JoV12-kP14w"
      },
      "outputs": [],
      "source": [
        "model.compile(optimizer='SGD', loss='sparse_categorical_crossentropy', metrics = ['accuracy'])"
      ]
    },
    {
      "cell_type": "code",
      "source": [
        "x_test = x_test.reshape((10000, 784))"
      ],
      "metadata": {
        "id": "aN0B25y-q46o"
      },
      "execution_count": null,
      "outputs": []
    },
    {
      "cell_type": "code",
      "execution_count": null,
      "metadata": {
        "colab": {
          "base_uri": "https://localhost:8080/"
        },
        "id": "9-OBB4lAx0uZ",
        "outputId": "a4752c9c-5b6c-4509-e229-d5112c4440c4"
      },
      "outputs": [
        {
          "output_type": "stream",
          "name": "stdout",
          "text": [
            "Epoch 1/3\n",
            "1875/1875 [==============================] - 6s 3ms/step - loss: 1.7573 - accuracy: 0.5375\n",
            "Epoch 2/3\n",
            "1875/1875 [==============================] - 9s 5ms/step - loss: 0.5721 - accuracy: 0.8415\n",
            "Epoch 3/3\n",
            "1875/1875 [==============================] - 9s 5ms/step - loss: 0.3988 - accuracy: 0.8863\n"
          ]
        },
        {
          "output_type": "execute_result",
          "data": {
            "text/plain": [
              "<keras.callbacks.History at 0x7f2469a56c90>"
            ]
          },
          "metadata": {},
          "execution_count": 12
        }
      ],
      "source": [
        "model.fit(x_train, y_train, epochs=3)"
      ]
    },
    {
      "cell_type": "code",
      "execution_count": null,
      "metadata": {
        "id": "QUg63-YoCa1f",
        "colab": {
          "base_uri": "https://localhost:8080/"
        },
        "outputId": "4ada6de9-324b-4de9-d54c-1898ba312824"
      },
      "outputs": [
        {
          "output_type": "stream",
          "name": "stdout",
          "text": [
            "313/313 [==============================] - 1s 2ms/step - loss: 0.3521 - accuracy: 0.9023\n",
            "0.3520839214324951 0.9023000001907349\n"
          ]
        }
      ],
      "source": [
        "\n",
        "val_loss, val_acc = model.evaluate(x_test, y_test)\n",
        "print(val_loss, val_acc)"
      ]
    },
    {
      "cell_type": "code",
      "source": [
        "#model.save('num_reader')\n",
        "#new_model = tf.keras.models.load_model('num_reader.model')\n",
        "prediction = model.predict([x_test])"
      ],
      "metadata": {
        "id": "1-1op9f_pQGc"
      },
      "execution_count": null,
      "outputs": []
    },
    {
      "cell_type": "code",
      "source": [
        "import numpy as np\n",
        "print(np.argmax(prediction[1]))"
      ],
      "metadata": {
        "colab": {
          "base_uri": "https://localhost:8080/"
        },
        "id": "RB8g5MOU-gNw",
        "outputId": "3e35418e-9f2e-4693-ee6f-741588263f00"
      },
      "execution_count": null,
      "outputs": [
        {
          "output_type": "stream",
          "name": "stdout",
          "text": [
            "2\n"
          ]
        }
      ]
    }
  ],
  "metadata": {
    "colab": {
      "collapsed_sections": [],
      "name": "Mnist_number_prediction.ipynb",
      "provenance": [],
      "authorship_tag": "ABX9TyMm4KKRLWBRmRts3OflRS9I",
      "include_colab_link": true
    },
    "kernelspec": {
      "display_name": "Python 3",
      "name": "python3"
    },
    "language_info": {
      "name": "python"
    }
  },
  "nbformat": 4,
  "nbformat_minor": 0
}